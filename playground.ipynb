{
 "cells": [
  {
   "cell_type": "code",
   "execution_count": null,
   "metadata": {},
   "outputs": [],
   "source": [
    "%load_ext autoreload\n",
    "%autoreload 2\n",
    "%matplotlib inline\n",
    "from engine.hive_game import *\n",
    "from engine.actions import *\n",
    "from engine.game_piece import *\n",
    "from ui.game_renderer import *\n",
    "from zoo.model import *\n",
    "from zoo.trainer import *\n",
    "from zoo.players import *\n",
    "from zoo.evaluate import *\n",
    "\n",
    "from io import BytesIO\n",
    "from PIL import Image\n",
    "from IPython.display import display\n",
    "import matplotlib.pyplot as plt\n",
    "import skimage\n",
    "\n",
    "def show_image(image1, image2=None):\n",
    "    if image2 is None:\n",
    "        image = image1\n",
    "    else:\n",
    "        image = combine_image(image1, image2)\n",
    "    img = Image.fromarray(skimage.img_as_ubyte(image))\n",
    "    display(img)"
   ]
  },
  {
   "cell_type": "code",
   "execution_count": null,
   "metadata": {
    "scrolled": false
   },
   "outputs": [],
   "source": [
    "game = HiveGame(to_win=4)\n",
    "renderer = GameRenderer()\n",
    "\n",
    "turn_index = 0\n",
    "with ModelPlayer(checkpoint='D:\\\\code\\\\hive\\\\checkpoints\\\\1535919417\\\\model.ckpt-2000', is_training=False) as player1:\n",
    "    #with ModelPlayer(game, 1, checkpoint='D:\\\\code\\\\hive\\\\checkpoints\\\\1535243271_0\\\\model.ckpt-2000', is_training=False) as player2:\n",
    "#with RandomPlayer() as player1:\n",
    "    with RandomPlayer() as player2:\n",
    "        players = [player1, player2]\n",
    "        while game.get_winner() is None:\n",
    "            if turn_index >= 200:\n",
    "                print(\"Can't finish\")\n",
    "                break\n",
    "            players[game.to_play].play_move(game)\n",
    "            winner = game.get_winner()\n",
    "            if winner is not None:\n",
    "                print(\"\\nWinner: \", winner)\n",
    "                break\n",
    "\n",
    "            turn_index += 1\n",
    "            #print(turn_index)\n",
    "            #show_image(renderer.render(game))"
   ]
  },
  {
   "cell_type": "code",
   "execution_count": null,
   "metadata": {
    "scrolled": false
   },
   "outputs": [],
   "source": [
    "renderer.game_review(game)"
   ]
  },
  {
   "cell_type": "code",
   "execution_count": null,
   "metadata": {
    "scrolled": false
   },
   "outputs": [],
   "source": [
    "history_game = game.game_history[30]\n",
    "all_actions = create_all_actions()\n",
    "print(history_game.to_play)\n",
    "history_renderer = GameRenderer()\n",
    "show_image(history_renderer.render(history_game))\n",
    "available_actions = [x for x in all_actions if x.can_be_played(history_game)]\n",
    "#available_actions = [x for x in available_actions if isinstance(x, QueenMove)]\n",
    "available_actions"
   ]
  },
  {
   "cell_type": "code",
   "execution_count": null,
   "metadata": {
    "scrolled": false
   },
   "outputs": [],
   "source": [
    "simulate_games(to_win=4, save_every=500)"
   ]
  },
  {
   "cell_type": "code",
   "execution_count": null,
   "metadata": {
    "scrolled": false
   },
   "outputs": [],
   "source": [
    "games = evaluate(num_games=50, checkpoint='D:\\\\code\\\\hive\\\\checkpoints\\\\1535994649\\\\model.ckpt-1000',\n",
    "                 opponent=RandomPlayer, to_win=4)"
   ]
  },
  {
   "cell_type": "code",
   "execution_count": null,
   "metadata": {},
   "outputs": [],
   "source": [
    "renderer = GameRenderer()\n",
    "renderer.game_review(games[1])"
   ]
  },
  {
   "cell_type": "code",
   "execution_count": null,
   "metadata": {
    "scrolled": false
   },
   "outputs": [],
   "source": [
    "game = HiveGame(to_win=3)\n",
    "renderer = GameRenderer()\n",
    "\n",
    "for i in range(100):\n",
    "    game.set_random_state()\n",
    "    show_image(renderer.render(game))"
   ]
  },
  {
   "cell_type": "code",
   "execution_count": null,
   "metadata": {},
   "outputs": [],
   "source": [
    "len(game._pieces_by_id[1].values()) == 4 and game.get_piece(1, 0) is None"
   ]
  },
  {
   "cell_type": "code",
   "execution_count": null,
   "metadata": {},
   "outputs": [],
   "source": []
  }
 ],
 "metadata": {
  "kernelspec": {
   "display_name": "Python 3",
   "language": "python",
   "name": "python3"
  },
  "language_info": {
   "codemirror_mode": {
    "name": "ipython",
    "version": 3
   },
   "file_extension": ".py",
   "mimetype": "text/x-python",
   "name": "python",
   "nbconvert_exporter": "python",
   "pygments_lexer": "ipython3",
   "version": "3.6.4"
  }
 },
 "nbformat": 4,
 "nbformat_minor": 2
}
